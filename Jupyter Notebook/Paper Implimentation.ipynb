{
 "cells": [
  {
   "cell_type": "markdown",
   "id": "76208ef0-9830-4c03-bb94-7aa5a704d764",
   "metadata": {},
   "source": [
    "# Importing Libraries "
   ]
  },
  {
   "cell_type": "code",
   "execution_count": 1,
   "id": "8fed2df4-2d81-4d08-99b2-7133156bdcbf",
   "metadata": {},
   "outputs": [],
   "source": [
    "import numpy as np \n",
    "import matplotlib.pyplot as plt "
   ]
  },
  {
   "cell_type": "markdown",
   "id": "6028cb0d-70f2-467e-b959-a98d35831a76",
   "metadata": {},
   "source": [
    "# Loading Dataset"
   ]
  },
  {
   "cell_type": "code",
   "execution_count": 2,
   "id": "f0d79306-cc4e-4f25-8439-e4a5affec58a",
   "metadata": {},
   "outputs": [],
   "source": [
    "import tables \n",
    "from scipy.io import loadmat"
   ]
  },
  {
   "cell_type": "markdown",
   "id": "fc72569c-fc40-4a64-af34-d876b6dbed22",
   "metadata": {},
   "source": [
    "The PyTables library is used to open .mat files which is the format of the dataset\n",
    "\n",
    "SciPY library is used for input/output functions for scientic data such as .mat files. loadmat() is used to import .mat files for < v7.2"
   ]
  },
  {
   "cell_type": "code",
   "execution_count": 4,
   "id": "48a40a2a-66f7-4498-b4d4-82fca04e8fd6",
   "metadata": {},
   "outputs": [
    {
     "name": "stdout",
     "output_type": "stream",
     "text": [
      "/ (RootGroup) ''\n",
      "/dataTrnS1 (CArray(1750, 25915)zlib(3)) ''\n",
      "/dataTrnS2 (CArray(1750, 26329)zlib(3)) ''\n",
      "/dataValS1 (CArray(120, 25915)zlib(3)) ''\n",
      "/dataValS2 (CArray(120, 26329)zlib(3)) ''\n",
      "/roiS1 (CArray(1, 25915)zlib(3)) ''\n",
      "/roiS2 (CArray(1, 26329)zlib(3)) ''\n",
      "/voxIdxS1 (CArray(1, 25915)zlib(3)) ''\n",
      "/voxIdxS2 (CArray(1, 26329)zlib(3)) ''\n"
     ]
    }
   ],
   "source": [
    "f = tables.open_file('/Users/harshakhiyani/My_Stuff/Study/Research/Visual Stimiluai Reconstruction/EstimatedResponses.mat')\n",
    "for node in f:\n",
    "    print(node)\n"
   ]
  },
  {
   "cell_type": "markdown",
   "id": "0c86351c-cd81-485e-a8f6-3d9f91b80a34",
   "metadata": {},
   "source": [
    ".mat files use a format called HDF5 which stores files in a hiearchial structure. \n",
    "to open .mat files we use .open_file function from PyTables Library\n",
    "I have listed all the nodes present in first level of the file here"
   ]
  },
  {
   "cell_type": "code",
   "execution_count": 6,
   "id": "e2c71832-4a32-41b9-bc21-2af2b7e8e505",
   "metadata": {},
   "outputs": [
    {
     "name": "stdout",
     "output_type": "stream",
     "text": [
      "(1750, 25915)\n"
     ]
    }
   ],
   "source": [
    "responses = f.get_node('/dataTrnS1')[:]\n",
    "print(responses.shape)\n",
    "roi = f.get_node('/roiS1')[:],flatten()\n",
    "print(roi.shape)"
   ]
  },
  {
   "cell_type": "markdown",
   "id": "1538a47f-7268-4f66-9b6c-927b0824904a",
   "metadata": {},
   "source": [
    "Here we are taking Training data of Subject 1 through DataTrnS1 which contains reponses of fMRI for subject 1\n",
    "Other folders corresponds to Training data for subject 2\n",
    "Validation sets for subject 1 and 2\n",
    "ROIS1, ROIS2 corresponds to Region of Intrest labels for each Voxel of the brain - Explains which brain region each voxel belongs to \n",
    "voxIdxS1,voxIdxS2 - These are the 3D cooridinate of each voxel, this can be helpful to reconstruct the 3D brain of the subject"
   ]
  },
  {
   "cell_type": "code",
   "execution_count": null,
   "id": "a82fa12c-84b6-42cd-ae89-edf8fa58dfa2",
   "metadata": {},
   "outputs": [],
   "source": []
  }
 ],
 "metadata": {
  "kernelspec": {
   "display_name": "Python 3 (ipykernel)",
   "language": "python",
   "name": "python3"
  },
  "language_info": {
   "codemirror_mode": {
    "name": "ipython",
    "version": 3
   },
   "file_extension": ".py",
   "mimetype": "text/x-python",
   "name": "python",
   "nbconvert_exporter": "python",
   "pygments_lexer": "ipython3",
   "version": "3.10.4"
  }
 },
 "nbformat": 4,
 "nbformat_minor": 5
}
