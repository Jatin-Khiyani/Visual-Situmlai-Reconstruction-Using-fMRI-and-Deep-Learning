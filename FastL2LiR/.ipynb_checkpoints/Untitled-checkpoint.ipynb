{
 "cells": [
  {
   "cell_type": "markdown",
   "id": "35be8fe3-76f6-4fd2-b527-bd313c3bfa85",
   "metadata": {},
   "source": [
    "# Importing Data"
   ]
  },
  {
   "cell_type": "code",
   "execution_count": 3,
   "id": "d63ae88c-a9bb-49b9-a6d1-30ed095b781c",
   "metadata": {},
   "outputs": [],
   "source": [
    "import numpy as np \n",
    "import torch"
   ]
  },
  {
   "cell_type": "markdown",
   "id": "c55769e2-580d-4372-80ee-14fa8d01dd76",
   "metadata": {},
   "source": [
    "## Importing Captions and fMRI"
   ]
  },
  {
   "cell_type": "code",
   "execution_count": 9,
   "id": "6d86e039-2955-4c08-aaa0-9aa1b1046b69",
   "metadata": {},
   "outputs": [
    {
     "name": "stdout",
     "output_type": "stream",
     "text": [
      "fMRI shape: (27750, 215, 200)\n",
      "CLIP text embeddings shape: (27750, 7680)\n",
      "VQ-VAE latents shape: (27750, 16384)\n"
     ]
    }
   ],
   "source": [
    "fmri = np.load('/Users/harshakhiyani/My_Stuff/CODE/GITHUB/Datasets/prepared_nsd_data_subj01/fmri.npy')\n",
    "clip_text = np.load('/Users/harshakhiyani/My_Stuff/CODE/GITHUB/Datasets/Caption Embedding/Caption Embdedding.npy')\n",
    "vqvae_latents = np.load('/Users/harshakhiyani/My_Stuff/CODE/GITHUB/Datasets/z.npy') \n",
    "# === Print shapes ===\n",
    "print(\"fMRI shape:\", fmri.shape)\n",
    "print(\"CLIP text embeddings shape:\", clip_text.shape)\n",
    "print(\"VQ-VAE latents shape:\", vqvae_latents.shape)\n"
   ]
  },
  {
   "cell_type": "markdown",
   "id": "4b25b3c4-d937-4f58-89d2-9e61cebba1fa",
   "metadata": {},
   "source": [
    "### Flattening and PreProccessing"
   ]
  },
  {
   "cell_type": "code",
   "execution_count": 4,
   "id": "bccb95ff-b9d2-4a6c-b802-4221dd62fa5e",
   "metadata": {},
   "outputs": [
    {
     "name": "stderr",
     "output_type": "stream",
     "text": [
      "Loading VQ-VAE latents: 100%|███████████| 27750/27750 [00:17<00:00, 1619.35it/s]\n"
     ]
    },
    {
     "name": "stdout",
     "output_type": "stream",
     "text": [
      "Saved flattened z latents to z.npy with shape: (27750, 16384)\n"
     ]
    }
   ],
   "source": []
  },
  {
   "cell_type": "code",
   "execution_count": null,
   "id": "230075a0-6c10-44fa-9dad-66d18e05bffd",
   "metadata": {},
   "outputs": [],
   "source": []
  },
  {
   "cell_type": "code",
   "execution_count": 10,
   "id": "47f9a8f7-ad36-4388-9e89-510558aaef10",
   "metadata": {},
   "outputs": [
    {
     "name": "stdout",
     "output_type": "stream",
     "text": [
      "fMRI (flattened): (27750, 43000)\n",
      "CLIP text: (27750, 7680)\n",
      "VQ-VAE latents: (27750, 16384)\n"
     ]
    }
   ],
   "source": [
    "# === Flatten fMRI to (N, D_fmri) ===\n",
    "fmri_flat = fmri.reshape(fmri.shape[0], -1)  # shape: (27750, 43000)\n",
    "\n",
    "# === Clip c to match samples ===\n",
    "clip_text = clip_text[:fmri_flat.shape[0]]  # now (27750, 7680)\n",
    "\n",
    "# === Final sanity check ===\n",
    "print(\"fMRI (flattened):\", fmri_flat.shape)\n",
    "print(\"CLIP text:\", clip_text.shape)\n",
    "print(\"VQ-VAE latents:\", vqvae_latents.shape)"
   ]
  },
  {
   "cell_type": "markdown",
   "id": "f1e648da-4abb-44d9-bd8b-a19061f6ab85",
   "metadata": {},
   "source": [
    "## Importing FastL2LiR"
   ]
  },
  {
   "cell_type": "code",
   "execution_count": 11,
   "id": "d5cdbe09-de77-45b5-b320-2a1a70a9065f",
   "metadata": {},
   "outputs": [
    {
     "name": "stdout",
     "output_type": "stream",
     "text": [
      "Collecting git+https://github.com/KamitaniLab/PyFastL2LiR.git\n",
      "  Cloning https://github.com/KamitaniLab/PyFastL2LiR.git to /private/var/folders/jt/46g4wcz94mb72f5z3kq461s00000gn/T/pip-req-build-l3qem1kk\n",
      "  Running command git clone --filter=blob:none --quiet https://github.com/KamitaniLab/PyFastL2LiR.git /private/var/folders/jt/46g4wcz94mb72f5z3kq461s00000gn/T/pip-req-build-l3qem1kk\n",
      "  error: RPC failed; curl 56 Recv failure: Connection reset by peer\n",
      "  error: 25 bytes of body are still expected\n",
      "  fetch-pack: unexpected disconnect while reading sideband packet\n",
      "  fatal: early EOF\n",
      "  fatal: index-pack failed\n",
      "  fatal: could not fetch 04c24626798f6a0b7329e71c6456a3f7c7730524 from promisor remote\n",
      "  warning: Clone succeeded, but checkout failed.\n",
      "  You can inspect what was checked out with 'git status'\n",
      "  and retry with 'git restore --source=HEAD :/'\n",
      "\n",
      "  \u001b[1;31merror\u001b[0m: \u001b[1msubprocess-exited-with-error\u001b[0m\n",
      "  \n",
      "  \u001b[31m×\u001b[0m \u001b[32mgit clone --\u001b[0m\u001b[32mfilter\u001b[0m\u001b[32m=\u001b[0m\u001b[32mblob\u001b[0m\u001b[32m:none --quiet \u001b[0m\u001b[4;32mhttps://github.com/KamitaniLab/PyFastL2LiR.git\u001b[0m\u001b[32m \u001b[0m\u001b[32m/private/var/folders/jt/46g4wcz94mb72f5z3kq461s00000gn/T/\u001b[0m\u001b[32mpip-req-build-l3qem1kk\u001b[0m did not run successfully.\n",
      "  \u001b[31m│\u001b[0m exit code: \u001b[1;36m128\u001b[0m\n",
      "  \u001b[31m╰─>\u001b[0m See above for output.\n",
      "  \n",
      "  \u001b[1;35mnote\u001b[0m: This error originates from a subprocess, and is likely not a problem with pip.\n",
      "\u001b[1;31merror\u001b[0m: \u001b[1msubprocess-exited-with-error\u001b[0m\n",
      "\n",
      "\u001b[31m×\u001b[0m \u001b[32mgit clone --\u001b[0m\u001b[32mfilter\u001b[0m\u001b[32m=\u001b[0m\u001b[32mblob\u001b[0m\u001b[32m:none --quiet \u001b[0m\u001b[4;32mhttps://github.com/KamitaniLab/PyFastL2LiR.git\u001b[0m\u001b[32m \u001b[0m\u001b[32m/private/var/folders/jt/46g4wcz94mb72f5z3kq461s00000gn/T/\u001b[0m\u001b[32mpip-req-build-l3qem1kk\u001b[0m did not run successfully.\n",
      "\u001b[31m│\u001b[0m exit code: \u001b[1;36m128\u001b[0m\n",
      "\u001b[31m╰─>\u001b[0m See above for output.\n",
      "\n",
      "\u001b[1;35mnote\u001b[0m: This error originates from a subprocess, and is likely not a problem with pip.\n"
     ]
    }
   ],
   "source": []
  },
  {
   "cell_type": "code",
   "execution_count": null,
   "id": "1b98f5b5-574a-4cb0-8e18-be7b806adf83",
   "metadata": {},
   "outputs": [],
   "source": [
    "from fastl2lir import FastL2LiR\n",
    "import numpy as np\n",
    "import joblib\n",
    "\n",
    "# === Inputs ===\n",
    "X = fmri_flat          # shape: (27750, 43000)\n",
    "Y = vqvae_latents      # shape: (27750, 16384)\n",
    "\n",
    "# === Initialize model with default weights and biases ===\n",
    "model_fz = FastL2LiR()\n",
    "\n",
    "# === Fit the model; set alpha here ===\n",
    "model_fz.fit(\n",
    "    X, \n",
    "    Y, \n",
    "    alpha=1.0,                # L2 regularization strength λ\n",
    "    save_select_feat=False,  # Set True if doing voxel selection\n",
    "    spatial_norm=None        # Use 'norm2mean0' or others if needed\n",
    ")\n",
    "\n",
    "# === Predict from the training set ===\n",
    "Y_pred = model_fz.predict(X)\n",
    "print(\"Predicted shape:\", Y_pred.shape)\n",
    "\n",
    "# === Save the trained model ===\n",
    "joblib.dump(model_fz, \"fz_model.joblib\")\n"
   ]
  },
  {
   "cell_type": "markdown",
   "id": "420deae1-df55-45c1-876b-45eda02ba771",
   "metadata": {},
   "source": [
    "## Evaluating"
   ]
  },
  {
   "cell_type": "code",
   "execution_count": null,
   "id": "4f4339db-1d4f-4ec3-825a-f15aefe66e92",
   "metadata": {},
   "outputs": [],
   "source": [
    "from scipy.stats import pearsonr\n",
    "import numpy as np\n",
    "\n",
    "# === Predict on the training set ===\n",
    "Y_pred = model_fz.predict(X)  # shape: (27750, 16384)\n",
    "\n",
    "# === Compute per-dimension Pearson correlation ===\n",
    "correlations = []\n",
    "for i in range(Y.shape[1]):  # Loop over 16384 dims\n",
    "    r, _ = pearsonr(Y[:, i], Y_pred[:, i])\n",
    "    correlations.append(r)\n",
    "\n",
    "correlations = np.array(correlations)\n",
    "print(\"Mean Pearson correlation across all dimensions:\", np.mean(correlations))\n",
    "\n",
    "# === Optional: Visualize correlation distribution ===\n",
    "import matplotlib.pyplot as plt\n",
    "plt.hist(correlations, bins=50)\n",
    "plt.title(\"Distribution of Pearson Correlation (f_z)\")\n",
    "plt.xlabel(\"Correlation\")\n",
    "plt.ylabel(\"Frequency\")\n",
    "plt.show()\n"
   ]
  },
  {
   "cell_type": "code",
   "execution_count": null,
   "id": "a9b38fcf-30e9-49ba-b323-858440c40452",
   "metadata": {},
   "outputs": [],
   "source": []
  }
 ],
 "metadata": {
  "kernelspec": {
   "display_name": "Python 3 (ipykernel)",
   "language": "python",
   "name": "python3"
  },
  "language_info": {
   "codemirror_mode": {
    "name": "ipython",
    "version": 3
   },
   "file_extension": ".py",
   "mimetype": "text/x-python",
   "name": "python",
   "nbconvert_exporter": "python",
   "pygments_lexer": "ipython3",
   "version": "3.10.4"
  }
 },
 "nbformat": 4,
 "nbformat_minor": 5
}
