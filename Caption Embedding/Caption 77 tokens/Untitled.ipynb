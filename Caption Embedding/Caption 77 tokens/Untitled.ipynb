{
 "cells": [
  {
   "cell_type": "code",
   "execution_count": 2,
   "id": "273e4901-e73e-4fb4-9757-f4ced759af1b",
   "metadata": {},
   "outputs": [
    {
     "name": "stderr",
     "output_type": "stream",
     "text": [
      "Filter: 100%|███████████████████| 195000/195000 [08:27<00:00, 384.04 examples/s]\n"
     ]
    },
    {
     "name": "stdout",
     "output_type": "stream",
     "text": [
      "Total samples for subject 0: 27750\n"
     ]
    },
    {
     "name": "stderr",
     "output_type": "stream",
     "text": [
      "Saving captions: 100%|███████████████████| 27750/27750 [01:31<00:00, 304.60it/s]"
     ]
    },
    {
     "name": "stdout",
     "output_type": "stream",
     "text": [
      "✅ Sample dataset created!\n"
     ]
    },
    {
     "name": "stderr",
     "output_type": "stream",
     "text": [
      "\n"
     ]
    }
   ],
   "source": [
    "# 🚀 Install packages\n",
    "# # 🚀 Imports\n",
    "from datasets import load_dataset\n",
    "import os\n",
    "import io\n",
    "import numpy as np\n",
    "from PIL import Image\n",
    "from tqdm import tqdm\n",
    "\n",
    "#🚀 Load NSD-Flat dataset\n",
    "dataset = load_dataset(r\"/Volumes/Samsung_PSSD_T7_Shield/NSD dataset/Dataset Pointers\", split=\"train\")\n",
    "\n",
    "#🚀 Filter for a single subject (e.g., subject_id == 1)\n",
    "subject_id = 0\n",
    "filtered_dataset = dataset.filter(lambda x: x[\"subject_id\"] == subject_id)\n",
    "\n",
    "# 🚀 Check size\n",
    "print(f\"Total samples for subject {subject_id}:\", len(filtered_dataset))\n",
    "\n",
    "# 🚀 Create sample output folders\n",
    "base_dir = f\"sample_subject_{subject_id}\"\n",
    "os.makedirs(f\"{base_dir}/captions\", exist_ok=True)\n",
    "os.makedirs(f\"{base_dir}/images\", exist_ok=True)\n",
    "os.makedirs(f\"{base_dir}/activity_maps\", exist_ok=True)\n",
    "\n",
    "\n",
    "#🚀 Save captions\n",
    "with open(f\"{base_dir}/captions/captions.txt\", \"w\", encoding=\"utf-8\") as f:\n",
    "    for item in tqdm(filtered_dataset, desc=\"Saving captions\"):\n",
    "        for caption in item[\"captions\"]:\n",
    "            f.write(caption + \"\\n\")\n",
    "\n",
    "# 🚀 Save images\n",
    "# for i, item in enumerate(tqdm(dataset, desc=\"Saving images\")):\n",
    "#     try:\n",
    "#         img = item[\"image\"]  # Already a PIL.Image object\n",
    "#         img.save(f\"images/image_{i:06d}.png\")\n",
    "#     except Exception as e:\n",
    "#         print(f\"Error saving image {i}: {e}\")\n",
    "\n",
    "# 🚀 Save activity maps\n",
    "# for i, item in enumerate(tqdm(filtered_dataset, desc=\"Saving activity maps\")):\n",
    "#     try:\n",
    "#         arr = np.array(item[\"activity\"])\n",
    "#         np.save(f\"{base_dir}/activity_maps/activity_{i:06d}.npy\", arr)\n",
    "#     except Exception as e:\n",
    "#         print(f\"Error saving activity map {i}: {e}\")\n",
    "\n",
    "print(\"✅ Sample dataset created!\")\n"
   ]
  },
  {
   "cell_type": "code",
   "execution_count": null,
   "id": "b9bda6d6-2907-4104-8713-b1519a3775cf",
   "metadata": {},
   "outputs": [],
   "source": []
  }
 ],
 "metadata": {
  "kernelspec": {
   "display_name": "Python 3 (ipykernel)",
   "language": "python",
   "name": "python3"
  },
  "language_info": {
   "codemirror_mode": {
    "name": "ipython",
    "version": 3
   },
   "file_extension": ".py",
   "mimetype": "text/x-python",
   "name": "python",
   "nbconvert_exporter": "python",
   "pygments_lexer": "ipython3",
   "version": "3.10.4"
  }
 },
 "nbformat": 4,
 "nbformat_minor": 5
}
