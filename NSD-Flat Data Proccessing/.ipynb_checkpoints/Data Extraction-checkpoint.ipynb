{
 "cells": [
  {
   "cell_type": "markdown",
   "id": "60756042-77f4-459e-ab56-9e223050f4a6",
   "metadata": {},
   "source": [
    "# NSD-flat  Dataset\n",
    "\n",
    "NSD-flat dataset is a pre proccessed version of NSD dataset for deep learning pipelies that contains 8 human particpants who were shown 9000-10,000 images and their brain activity was recorded \n"
   ]
  },
  {
   "cell_type": "markdown",
   "id": "8118fb90-3b8a-4840-86c5-4bbed4dbd6c0",
   "metadata": {},
   "source": [
    "# NSD Data Extraction "
   ]
  },
  {
   "cell_type": "code",
   "execution_count": null,
   "id": "1004426e-b23e-4a6c-87f4-695a26e0943d",
   "metadata": {},
   "outputs": [],
   "source": [
    " from datasets import load_from_disk\n",
    "import numpy as np\n",
    "from PIL import Image\n",
    "import os\n",
    "from tqdm import tqdm\n",
    "\n",
    "# === PATHS ===\n",
    "DATASET_PATH = '/Volumes/Samsung_PSSD_T7_Shield/NSD dataset/Dataset Pointers'\n",
    "SAVE_DIR = './prepared_nsd_data'\n",
    "os.makedirs(SAVE_DIR, exist_ok=True)\n",
    "\n",
    "# === Load the dataset ===\n",
    "dataset = load_from_disk(DATASET_PATH)\n",
    "train_set = dataset[\"train\"]\n",
    "n_samples = len(train_set)\n",
    "\n",
    "print(f\"Processing {n_samples} samples...\")\n",
    "\n",
    "# === Prepare storage ===\n",
    "fMRI_list = []\n",
    "image_paths = []\n",
    "captions = []\n",
    "\n",
    "# === Iterate and save ===\n",
    "for i, sample in enumerate(tqdm(train_set, desc=\"Saving NSD-Flat samples\")):\n",
    "    # --- fMRI activity ---\n",
    "    activity = np.array(sample['activity'])  # shape: [n_voxels]\n",
    "    fMRI_list.append(activity)\n",
    "\n",
    "    # --- Save image ---\n",
    "    img: Image.Image = sample['image']\n",
    "    img_path = os.path.join(SAVE_DIR, f'image_{i:05d}.png')\n",
    "    img.save(img_path)\n",
    "    image_paths.append(img_path)\n",
    "\n",
    "    # --- Caption ---\n",
    "    captions.append(sample['captions'][0])  # Use the first caption\n",
    "\n",
    "# === Save everything ===\n",
    "fMRI_array = np.stack(fMRI_list)\n",
    "np.save(os.path.join(SAVE_DIR, 'fmri.npy'), fMRI_array)\n",
    "\n",
    "with open(os.path.join(SAVE_DIR, 'image_paths.txt'), 'w') as f:\n",
    "    f.writelines([p + '\\n' for p in image_paths])\n",
    "\n",
    "with open(os.path.join(SAVE_DIR, 'captions.txt'), 'w') as f:\n",
    "    f.writelines([c + '\\n' for c in captions])\n",
    "\n",
    "print(\"✅ Done saving!\")\n",
    "print(\" - fMRI shape:\", fMRI_array.shape)\n",
    "print(\" - # Captions:\", len(captions))\n",
    "print(\" - Images saved in:\", SAVE_DIR)\n"
   ]
  }
 ],
 "metadata": {
  "kernelspec": {
   "display_name": "Python 3 (ipykernel)",
   "language": "python",
   "name": "python3"
  },
  "language_info": {
   "codemirror_mode": {
    "name": "ipython",
    "version": 3
   },
   "file_extension": ".py",
   "mimetype": "text/x-python",
   "name": "python",
   "nbconvert_exporter": "python",
   "pygments_lexer": "ipython3",
   "version": "3.10.4"
  }
 },
 "nbformat": 4,
 "nbformat_minor": 5
}
