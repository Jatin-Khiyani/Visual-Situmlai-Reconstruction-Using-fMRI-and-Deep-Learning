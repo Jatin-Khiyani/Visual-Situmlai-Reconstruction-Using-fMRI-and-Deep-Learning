{
 "cells": [
  {
   "cell_type": "code",
   "execution_count": 2,
   "id": "b5492b2a-1216-4fc1-a637-c6273f0aa0ba",
   "metadata": {},
   "outputs": [
    {
     "name": "stdout",
     "output_type": "stream",
     "text": [
      "Found 27750 samples for subject 0.\n"
     ]
    },
    {
     "name": "stderr",
     "output_type": "stream",
     "text": [
      "Saving samples for 0: 100%|██████████████| 27750/27750 [03:56<00:00, 117.28it/s]\n"
     ]
    },
    {
     "name": "stdout",
     "output_type": "stream",
     "text": [
      "✅ Done saving!\n",
      " - fMRI shape: (27750, 215, 200)\n",
      " - # Captions: 27750\n",
      " - Images saved in: ./prepared_nsd_data_subj01\n"
     ]
    }
   ],
   "source": [
    "from datasets import load_from_disk\n",
    "import numpy as np\n",
    "from PIL import Image\n",
    "import os\n",
    "from tqdm import tqdm\n",
    "\n",
    "# === CONFIGURATION ===\n",
    "DATASET_PATH = '/Volumes/Samsung_PSSD_T7_Shield/NSD dataset/Dataset Pointers'\n",
    "SAVE_DIR = './prepared_nsd_data_subj01'\n",
    "TARGET_SUBJECT = 0  # Change this to the subject ID you want\n",
    "\n",
    "# === PREPARE SAVE DIR ===\n",
    "os.makedirs(SAVE_DIR, exist_ok=True)\n",
    "\n",
    "# === Load the dataset ===\n",
    "dataset = load_from_disk(DATASET_PATH)\n",
    "train_set = dataset[\"train\"]\n",
    "\n",
    "# === Filter by subject ID ===\n",
    "filtered_set = [s for s in train_set if s['subject_id'] == TARGET_SUBJECT]\n",
    "print(f\"Found {len(filtered_set)} samples for subject {TARGET_SUBJECT}.\")\n",
    "\n",
    "# === Prepare storage ===\n",
    "fMRI_list = []\n",
    "image_paths = []\n",
    "captions = []\n",
    "\n",
    "# === Iterate and save ===\n",
    "for i, sample in enumerate(tqdm(filtered_set, desc=f\"Saving samples for {TARGET_SUBJECT}\")):\n",
    "    # --- fMRI activity ---\n",
    "    activity = np.array(sample['activity'])  # shape: [n_voxels]\n",
    "    fMRI_list.append(activity)\n",
    "\n",
    "    # --- Save image ---\n",
    "    img: Image.Image = sample['image']\n",
    "    img_path = os.path.join(SAVE_DIR, f'image_{i:05d}.png')\n",
    "    img.save(img_path)\n",
    "    image_paths.append(img_path)\n",
    "\n",
    "    # --- Caption ---\n",
    "    captions.append(sample['captions'][0])  # Use the first caption\n",
    "\n",
    "# === Save everything ===\n",
    "fMRI_array = np.stack(fMRI_list)\n",
    "np.save(os.path.join(SAVE_DIR, 'fmri.npy'), fMRI_array)\n",
    "\n",
    "with open(os.path.join(SAVE_DIR, 'image_paths.txt'), 'w') as f:\n",
    "    f.writelines([p + '\\n' for p in image_paths])\n",
    "\n",
    "with open(os.path.join(SAVE_DIR, 'captions.txt'), 'w') as f:\n",
    "    f.writelines([c + '\\n' for c in captions])\n",
    "\n",
    "print(\"✅ Done saving!\")\n",
    "print(\" - fMRI shape:\", fMRI_array.shape)\n",
    "print(\" - # Captions:\", len(captions))\n",
    "print(\" - Images saved in:\", SAVE_DIR)\n"
   ]
  },
  {
   "cell_type": "code",
   "execution_count": null,
   "id": "0e770729-1c57-43d5-8ae8-13dcbfff3ba5",
   "metadata": {},
   "outputs": [],
   "source": []
  },
  {
   "cell_type": "code",
   "execution_count": null,
   "id": "9adada9a-2c9e-4dca-b329-524a74bb6b97",
   "metadata": {},
   "outputs": [],
   "source": []
  }
 ],
 "metadata": {
  "kernelspec": {
   "display_name": "Python 3 (ipykernel)",
   "language": "python",
   "name": "python3"
  },
  "language_info": {
   "codemirror_mode": {
    "name": "ipython",
    "version": 3
   },
   "file_extension": ".py",
   "mimetype": "text/x-python",
   "name": "python",
   "nbconvert_exporter": "python",
   "pygments_lexer": "ipython3",
   "version": "3.10.4"
  }
 },
 "nbformat": 4,
 "nbformat_minor": 5
}
